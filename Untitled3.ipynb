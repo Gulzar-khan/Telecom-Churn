{
  "nbformat": 4,
  "nbformat_minor": 0,
  "metadata": {
    "colab": {
      "name": "Untitled3.ipynb",
      "provenance": [],
      "authorship_tag": "ABX9TyMHN7VNEJCLqZdUIppP4c4X"
    },
    "kernelspec": {
      "name": "python3",
      "display_name": "Python 3"
    },
    "language_info": {
      "name": "python"
    }
  },
  "cells": [
    {
      "cell_type": "code",
      "execution_count": null,
      "metadata": {
        "id": "Bg3lt8MHq4gC"
      },
      "outputs": [],
      "source": [
        "https://colab.research.google.com/drive/1Q3QTCuB9LNg62wk_FjKZ4ptVfj21LTYv#scrollTo=_cPBqGM4bKuc"
      ]
    }
  ]
}